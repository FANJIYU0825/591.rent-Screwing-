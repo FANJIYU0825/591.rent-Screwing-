{
 "cells": [
  {
   "cell_type": "code",
   "execution_count": 1,
   "metadata": {},
   "outputs": [
    {
     "name": "stderr",
     "output_type": "stream",
     "text": [
      "Using TensorFlow backend.\n"
     ]
    }
   ],
   "source": [
    "import pandas as pd\n",
    "import numpy as np\n",
    "import matplotlib.pyplot as plt\n",
    "from sklearn.preprocessing import MinMaxScaler\n",
    "from keras.models import Sequential\n",
    "from keras.layers import LSTM, Dense\n",
    "from plotly.graph_objs import Scatter, Layout\n",
    "from plotly.offline import plot\n"
   ]
  },
  {
   "cell_type": "markdown",
   "metadata": {},
   "source": [
    "模型載入 "
   ]
  },
  {
   "cell_type": "code",
   "execution_count": 8,
   "metadata": {},
   "outputs": [],
   "source": [
    "def load_data(df, sequence_length=10, split=0.8):\n",
    "    data_all = np.array(df).astype(float)    # 轉為浮點型別矩陣\n",
    "    #print(data_all.shape) # (241,1)\n",
    "    scaler = MinMaxScaler()\n",
    "    data_all = scaler.fit_transform(data_all)  # 將數據縮放為 0~1 之間\n",
    "    data = []\n",
    "    # data 資料共有 (241-10-1)=230 筆\n",
    "    for i in range(len(data_all) - sequence_length - 1):\n",
    "        # 每筆 data 資料有 11 欄\n",
    "        data.append(data_all[i: i + sequence_length + 1])\n",
    "    reshaped_data = np.array(data).astype('float64')\n",
    "\n",
    "    x = reshaped_data[:, :-1] # 第 1至第10個欄位為 特徵\n",
    "    y = reshaped_data[:, -1]  # 第 11個欄位為 label\n",
    "    #print(x.shape,y.shape) # (230,10,1) (230,1)\n",
    "    split_boundary = int(reshaped_data.shape[0] * split)\n",
    "    train_x = x[: split_boundary] # 前 80% 為 train 的特徵\n",
    "    test_x = x[split_boundary:]   # 最後 20% 為 test 的特徵\n",
    " \n",
    "    train_y = y[: split_boundary] # 前 80% 為 train 的 label\n",
    "    test_y = y[split_boundary:]   # 最後 20% 為 test 的 label\n",
    "\n",
    "    return train_x, train_y, test_x, test_y, scaler"
   ]
  },
  {
   "cell_type": "markdown",
   "metadata": {},
   "source": [
    "模型建立"
   ]
  },
  {
   "cell_type": "code",
   "execution_count": 9,
   "metadata": {},
   "outputs": [],
   "source": [
    "def build_model():\n",
    "    model = Sequential()     \n",
    "    # 隱藏層：256 個神經元，input_shape：(10,1)\n",
    "    # TIME_STEPS=10,INPUT_SIZE=1\n",
    "    model.add(LSTM(input_shape=(10,1),units=256,unroll=False))\n",
    "    model.add(Dense(units=1)) # 輸出層：1 個神經元\n",
    "    #compile:loss, optimizer, metrics\n",
    "    model.compile(loss=\"mse\", optimizer=\"adam\", metrics=['accuracy'])\n",
    "    return model"
   ]
  },
  {
   "cell_type": "markdown",
   "metadata": {},
   "source": [
    "訓練模型"
   ]
  },
  {
   "cell_type": "code",
   "execution_count": 10,
   "metadata": {},
   "outputs": [],
   "source": [
    "def train_model(train_x, train_y, test_x, test_y):\n",
    "    model = build_model()\n",
    "    try:\n",
    "        model.fit(train_x, train_y, batch_size=100, epochs=10, validation_split=0.1)\n",
    "        predict = model.predict(test_x)\n",
    "        predict = np.reshape(predict, (predict.size, )) #轉換為1維矩陣\n",
    "    except KeyboardInterrupt:\n",
    "        print(predict)\n",
    "        print(test_y)\n",
    "    return predict, test_y #傳回 預測值和真實值"
   ]
  },
  {
   "cell_type": "markdown",
   "metadata": {},
   "source": [
    " 主程式"
   ]
  },
  {
   "cell_type": "code",
   "execution_count": 11,
   "metadata": {},
   "outputs": [
    {
     "data": {
      "text/html": [
       "<div>\n",
       "<style scoped>\n",
       "    .dataframe tbody tr th:only-of-type {\n",
       "        vertical-align: middle;\n",
       "    }\n",
       "\n",
       "    .dataframe tbody tr th {\n",
       "        vertical-align: top;\n",
       "    }\n",
       "\n",
       "    .dataframe thead th {\n",
       "        text-align: right;\n",
       "    }\n",
       "</style>\n",
       "<table border=\"1\" class=\"dataframe\">\n",
       "  <thead>\n",
       "    <tr style=\"text-align: right;\">\n",
       "      <th></th>\n",
       "      <th>收盤價</th>\n",
       "    </tr>\n",
       "  </thead>\n",
       "  <tbody>\n",
       "    <tr>\n",
       "      <td>0</td>\n",
       "      <td>9.04</td>\n",
       "    </tr>\n",
       "    <tr>\n",
       "      <td>1</td>\n",
       "      <td>57.60</td>\n",
       "    </tr>\n",
       "    <tr>\n",
       "      <td>2</td>\n",
       "      <td>29.50</td>\n",
       "    </tr>\n",
       "    <tr>\n",
       "      <td>3</td>\n",
       "      <td>34.76</td>\n",
       "    </tr>\n",
       "    <tr>\n",
       "      <td>4</td>\n",
       "      <td>24.30</td>\n",
       "    </tr>\n",
       "    <tr>\n",
       "      <td>...</td>\n",
       "      <td>...</td>\n",
       "    </tr>\n",
       "    <tr>\n",
       "      <td>405205</td>\n",
       "      <td>102.20</td>\n",
       "    </tr>\n",
       "    <tr>\n",
       "      <td>405206</td>\n",
       "      <td>94.86</td>\n",
       "    </tr>\n",
       "    <tr>\n",
       "      <td>405207</td>\n",
       "      <td>98.22</td>\n",
       "    </tr>\n",
       "    <tr>\n",
       "      <td>405208</td>\n",
       "      <td>NaN</td>\n",
       "    </tr>\n",
       "    <tr>\n",
       "      <td>405209</td>\n",
       "      <td>1063.77</td>\n",
       "    </tr>\n",
       "  </tbody>\n",
       "</table>\n",
       "<p>405210 rows × 1 columns</p>\n",
       "</div>"
      ],
      "text/plain": [
       "            收盤價\n",
       "0          9.04\n",
       "1         57.60\n",
       "2         29.50\n",
       "3         34.76\n",
       "4         24.30\n",
       "...         ...\n",
       "405205   102.20\n",
       "405206    94.86\n",
       "405207    98.22\n",
       "405208      NaN\n",
       "405209  1063.77\n",
       "\n",
       "[405210 rows x 1 columns]"
      ]
     },
     "execution_count": 11,
     "metadata": {},
     "output_type": "execute_result"
    }
   ],
   "source": [
    "# pd.options.mode.chained_assignment = None  #取消顯示pandas資料重設警告\n",
    "filename = './data/Train_X.csv'\n",
    "df = pd.read_csv(filename, encoding='cp950')\n",
    "ddprice=pd.DataFrame(df['收盤價'])\n",
    "ddprice"
   ]
  },
  {
   "cell_type": "code",
   "execution_count": null,
   "metadata": {},
   "outputs": [
    {
     "name": "stdout",
     "output_type": "stream",
     "text": [
      "Train on 291743 samples, validate on 32416 samples\n",
      "Epoch 1/10\n",
      "291743/291743 [==============================] - 256s 877us/step - loss: nan - accuracy: 0.0000e+00 - val_loss: nan - val_accuracy: 0.0000e+00\n",
      "Epoch 2/10\n",
      "268200/291743 [==========================>...] - ETA: 21s - loss: nan - accuracy: 0.0000e+00"
     ]
    }
   ],
   "source": [
    "train_x, train_y, test_x, test_y, scaler =load_data(ddprice, sequence_length=10, split=0.8)\n",
    "# train_x 共 230*0.8=184 筆, test_x 共 230*0.2=46 筆\n",
    "#print(train_x.shape,train_y.shape) # (184,10,1) (184,1)\n",
    "#print(test_x.shape,test_y.shape)   # (46,10,1)  (46,1)\n",
    "predict_y, test_y = train_model(train_x, train_y, test_x, test_y)\n",
    "predict_y = scaler.inverse_transform([[i] for i in predict_y]) # 還原\n",
    "test_y = scaler.inverse_transform(test_y)  # 還原"
   ]
  },
  {
   "cell_type": "code",
   "execution_count": null,
   "metadata": {},
   "outputs": [],
   "source": [
    "plt.plot(predict_y, 'b:') #預測\n",
    "plt.plot(test_y, 'r-')    #收盤價\n",
    "plt.legend(['預測', '收盤價'])\n",
    "plt.show()\n",
    "\n",
    "# 建立 DataFrame，加入 predict_y、test_y，準備以 plotly 繪圖\n",
    "dd2=pd.DataFrame({\"predict\":list(predict_y),\"label\":list(test_y)})\n",
    "#轉換為 numpy 陣列，並轉為 float\n",
    "dd2[\"predict\"] = np.array(dd2[\"predict\"]).astype('float64')\n",
    "dd2[\"label\"] = np.array(dd2[\"label\"]).astype('float64')\n",
    "\n",
    "data = [\n",
    "    Scatter(y=dd2[\"predict\"],name='預測'),\n",
    "    Scatter(y=dd2[\"label\"],name='收盤價')\n",
    "] \n",
    "\n",
    "plot({\"data\": data, \"layout\": Layout(title='2018年個股預測圖')},auto_open=True)"
   ]
  },
  {
   "cell_type": "code",
   "execution_count": null,
   "metadata": {},
   "outputs": [],
   "source": []
  }
 ],
 "metadata": {
  "kernelspec": {
   "display_name": "Python 3",
   "language": "python",
   "name": "python3"
  },
  "language_info": {
   "codemirror_mode": {
    "name": "ipython",
    "version": 3
   },
   "file_extension": ".py",
   "mimetype": "text/x-python",
   "name": "python",
   "nbconvert_exporter": "python",
   "pygments_lexer": "ipython3",
   "version": "3.7.4"
  }
 },
 "nbformat": 4,
 "nbformat_minor": 2
}
