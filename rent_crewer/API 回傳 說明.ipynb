{
 "cells": [
  {
   "cell_type": "code",
   "execution_count": 35,
   "metadata": {},
   "outputs": [],
   "source": [
    "from pymongo import MongoClient\n",
    "import csv, os \n",
    "import pandas as pd"
   ]
  },
  {
   "cell_type": "markdown",
   "metadata": {},
   "source": [
    "連接 mongo db"
   ]
  },
  {
   "cell_type": "code",
   "execution_count": 36,
   "metadata": {},
   "outputs": [],
   "source": [
    "conn = MongoClient('localhost', 27017)\n",
    "db = conn['rent_591']\n",
    "collection = db.rent\n",
    "rows = collection.find()"
   ]
  },
  {
   "cell_type": "markdown",
   "metadata": {},
   "source": [
    "選項"
   ]
  },
  {
   "cell_type": "code",
   "execution_count": 37,
   "metadata": {},
   "outputs": [],
   "source": [
    "def search_use_menu():\n",
    "    print('歡迎來到搜尋系統')\n",
    "    print('1.地區搜尋')\n",
    "    print('2.性別搜尋')\n",
    "    print('3.電話搜尋')\n",
    "    print('4.姓名搜尋')\n",
    "    print('5.是否為屋主搜尋')\n",
    "    print('6.搜尋結束')\n",
    "    p = int(input('請輸入搜尋物件'))\n",
    "    if p==1:\n",
    "        print('台北按 1')\n",
    "        print('新北按 2')\n",
    "        K =int(input(''))\n",
    "        if K==1:\n",
    "\n",
    "            return 'region','台北市'\n",
    "        elif K==2:\n",
    "            return 'region','新北市'\n",
    "\n",
    "    elif p ==2:\n",
    "        print('請選擇租限制性別')\n",
    "        print('限女生1')\n",
    "        print('男女生都可2')\n",
    "        print('限男姓3')\n",
    "        K =int(input(''))\n",
    "        if K ==1:\n",
    "          return 'sex','女性'\n",
    "        elif K ==2:\n",
    "            return 'sex','男女生都可'\n",
    "        elif K==3:\n",
    "            return 'sex','男性'"
   ]
  },
  {
   "cell_type": "code",
   "execution_count": 39,
   "metadata": {},
   "outputs": [
    {
     "name": "stdout",
     "output_type": "stream",
     "text": [
      "歡迎來到搜尋系統\n",
      "1.地區搜尋\n",
      "2.性別搜尋\n",
      "3.電話搜尋\n",
      "4.姓名搜尋\n",
      "5.是否為屋主搜尋\n",
      "6.搜尋結束\n",
      "請輸入搜尋物件1\n",
      "台北按 1\n",
      "新北按 2\n",
      "2\n"
     ]
    },
    {
     "data": {
      "text/plain": [
       "('region', '新北市')"
      ]
     },
     "execution_count": 39,
     "metadata": {},
     "output_type": "execute_result"
    }
   ],
   "source": [
    "menu = search_use_menu()\n",
    "menu\n",
    "index= menu[0]\n",
    "item = menu[1]\n",
    "\n",
    "index,item"
   ]
  },
  {
   "cell_type": "markdown",
   "metadata": {},
   "source": [
    "搜尋 function 傳入 數值回傳objectid"
   ]
  },
  {
   "cell_type": "code",
   "execution_count": 54,
   "metadata": {},
   "outputs": [
    {
     "data": {
      "text/plain": [
       "<pymongo.cursor.Cursor at 0x237b0692448>"
      ]
     },
     "execution_count": 54,
     "metadata": {},
     "output_type": "execute_result"
    }
   ],
   "source": [
    "rows"
   ]
  },
  {
   "cell_type": "code",
   "execution_count": 55,
   "metadata": {},
   "outputs": [],
   "source": [
    "def search_enumera_region(index,item):\n",
    "    OJID_ls=[] \n",
    "    for index, items in enumerate(rows):\n",
    "        if items[f'{index}'] == f'{item}':\n",
    "            OJID=items['_id']\n",
    "            OJID_ls.append(OJID)\n",
    "    return OJID_ls\n"
   ]
  },
  {
   "cell_type": "markdown",
   "metadata": {},
   "source": []
  },
  {
   "cell_type": "markdown",
   "metadata": {},
   "source": [
    "搜尋使用"
   ]
  },
  {
   "cell_type": "code",
   "execution_count": 42,
   "metadata": {},
   "outputs": [
    {
     "data": {
      "text/plain": [
       "('region', '新北市')"
      ]
     },
     "execution_count": 42,
     "metadata": {},
     "output_type": "execute_result"
    }
   ],
   "source": [
    "index,item"
   ]
  },
  {
   "cell_type": "code",
   "execution_count": 56,
   "metadata": {},
   "outputs": [
    {
     "ename": "KeyError",
     "evalue": "'0'",
     "output_type": "error",
     "traceback": [
      "\u001b[1;31m---------------------------------------------------------------------------\u001b[0m",
      "\u001b[1;31mKeyError\u001b[0m                                  Traceback (most recent call last)",
      "\u001b[1;32m<ipython-input-56-181533af5fe4>\u001b[0m in \u001b[0;36m<module>\u001b[1;34m\u001b[0m\n\u001b[1;32m----> 1\u001b[1;33m \u001b[0ma\u001b[0m\u001b[1;33m=\u001b[0m\u001b[0msearch_enumera_region\u001b[0m\u001b[1;33m(\u001b[0m\u001b[0mindex\u001b[0m\u001b[1;33m,\u001b[0m\u001b[0mitem\u001b[0m\u001b[1;33m)\u001b[0m\u001b[1;33m\u001b[0m\u001b[1;33m\u001b[0m\u001b[0m\n\u001b[0m",
      "\u001b[1;32m<ipython-input-55-80b8578f8576>\u001b[0m in \u001b[0;36msearch_enumera_region\u001b[1;34m(index, item)\u001b[0m\n\u001b[0;32m      2\u001b[0m     \u001b[0mOJID_ls\u001b[0m\u001b[1;33m=\u001b[0m\u001b[1;33m[\u001b[0m\u001b[1;33m]\u001b[0m\u001b[1;33m\u001b[0m\u001b[1;33m\u001b[0m\u001b[0m\n\u001b[0;32m      3\u001b[0m     \u001b[1;32mfor\u001b[0m \u001b[0mindex\u001b[0m\u001b[1;33m,\u001b[0m \u001b[0mitems\u001b[0m \u001b[1;32min\u001b[0m \u001b[0menumerate\u001b[0m\u001b[1;33m(\u001b[0m\u001b[0mrows\u001b[0m\u001b[1;33m)\u001b[0m\u001b[1;33m:\u001b[0m\u001b[1;33m\u001b[0m\u001b[1;33m\u001b[0m\u001b[0m\n\u001b[1;32m----> 4\u001b[1;33m         \u001b[1;32mif\u001b[0m \u001b[0mitems\u001b[0m\u001b[1;33m[\u001b[0m\u001b[1;34mf'{index}'\u001b[0m\u001b[1;33m]\u001b[0m \u001b[1;33m==\u001b[0m \u001b[1;34mf'{item}'\u001b[0m\u001b[1;33m:\u001b[0m\u001b[1;33m\u001b[0m\u001b[1;33m\u001b[0m\u001b[0m\n\u001b[0m\u001b[0;32m      5\u001b[0m             \u001b[0mOJID\u001b[0m\u001b[1;33m=\u001b[0m\u001b[0mitems\u001b[0m\u001b[1;33m[\u001b[0m\u001b[1;34m'_id'\u001b[0m\u001b[1;33m]\u001b[0m\u001b[1;33m\u001b[0m\u001b[1;33m\u001b[0m\u001b[0m\n\u001b[0;32m      6\u001b[0m             \u001b[0mOJID_ls\u001b[0m\u001b[1;33m.\u001b[0m\u001b[0mappend\u001b[0m\u001b[1;33m(\u001b[0m\u001b[0mOJID\u001b[0m\u001b[1;33m)\u001b[0m\u001b[1;33m\u001b[0m\u001b[1;33m\u001b[0m\u001b[0m\n",
      "\u001b[1;31mKeyError\u001b[0m: '0'"
     ]
    }
   ],
   "source": [
    "a=search_enumera_region(index,item)"
   ]
  },
  {
   "cell_type": "markdown",
   "metadata": {},
   "source": [
    "api 回傳"
   ]
  },
  {
   "cell_type": "code",
   "execution_count": 61,
   "metadata": {},
   "outputs": [
    {
     "ename": "IndentationError",
     "evalue": "unindent does not match any outer indentation level (<tokenize>, line 35)",
     "output_type": "error",
     "traceback": [
      "\u001b[1;36m  File \u001b[1;32m\"<tokenize>\"\u001b[1;36m, line \u001b[1;32m35\u001b[0m\n\u001b[1;33m    return [info_dict]\u001b[0m\n\u001b[1;37m    ^\u001b[0m\n\u001b[1;31mIndentationError\u001b[0m\u001b[1;31m:\u001b[0m unindent does not match any outer indentation level\n"
     ]
    }
   ],
   "source": [
    "def search_enumera_reuslt_json(a):\n",
    "            for index, items in enumerate(rows):  \n",
    "             if items['_id'] == a:\n",
    "              #  角色\n",
    "                   OJID_Man= items['linkman']\n",
    "\n",
    "              #身分\n",
    "                   OJID_role = items['identity']\n",
    "              #電話 \n",
    "                   OJID_mobile = items['mobile']\n",
    "                   if OJID_mobile=='':\n",
    "                        OJID_mobile=items['telephone']\n",
    "                        if OJID_mobile=='':\n",
    "                             OJID_mobile = 0\n",
    "\n",
    "              #房屋種類     \n",
    "                   OJID_Buldtype = items['parking_shape']\n",
    "              #性別\n",
    "                   OJID_sex = items['sex']\n",
    "          #現況\n",
    "                   OJID_kind = items['kind']    \n",
    "\n",
    "                   info_dict ={\n",
    "\n",
    "                   'Renter':[OJID_Man],\n",
    "                   'Renter_ID':[OJID_role],\n",
    "                   'mobile':[OJID_mobile],\n",
    "                   'Building_Type':[OJID_Buldtype],\n",
    "                   'SEX':[OJID_sex],\n",
    "                   'Kind':[OJID_kind]\n",
    "\n",
    "                   }\n",
    "                       [info_dict]\n",
    "\n",
    "                     return [info_dict]         "
   ]
  },
  {
   "cell_type": "code",
   "execution_count": 62,
   "metadata": {},
   "outputs": [
    {
     "ename": "NameError",
     "evalue": "name 'search_enumera_reuslt_json' is not defined",
     "output_type": "error",
     "traceback": [
      "\u001b[1;31m---------------------------------------------------------------------------\u001b[0m",
      "\u001b[1;31mNameError\u001b[0m                                 Traceback (most recent call last)",
      "\u001b[1;32m<ipython-input-62-5370b05c037e>\u001b[0m in \u001b[0;36m<module>\u001b[1;34m\u001b[0m\n\u001b[1;32m----> 1\u001b[1;33m \u001b[0msearch_enumera_reuslt_json\u001b[0m\u001b[1;33m(\u001b[0m\u001b[0ma\u001b[0m\u001b[1;33m)\u001b[0m\u001b[1;33m\u001b[0m\u001b[1;33m\u001b[0m\u001b[0m\n\u001b[0m",
      "\u001b[1;31mNameError\u001b[0m: name 'search_enumera_reuslt_json' is not defined"
     ]
    }
   ],
   "source": [
    "search_enumera_reuslt_json(a)"
   ]
  },
  {
   "cell_type": "markdown",
   "metadata": {},
   "source": [
    "儲存檔案 json file"
   ]
  },
  {
   "cell_type": "code",
   "execution_count": 49,
   "metadata": {},
   "outputs": [
    {
     "ename": "NameError",
     "evalue": "name 'search_enumera_reuslt_json' is not defined",
     "output_type": "error",
     "traceback": [
      "\u001b[1;31m---------------------------------------------------------------------------\u001b[0m",
      "\u001b[1;31mNameError\u001b[0m                                 Traceback (most recent call last)",
      "\u001b[1;32m<ipython-input-49-82891d81f3b4>\u001b[0m in \u001b[0;36m<module>\u001b[1;34m\u001b[0m\n\u001b[1;32m----> 1\u001b[1;33m \u001b[0mr_males\u001b[0m \u001b[1;33m=\u001b[0m\u001b[0msearch_enumera_reuslt_json\u001b[0m\u001b[1;33m(\u001b[0m\u001b[0mre_males\u001b[0m\u001b[1;33m)\u001b[0m\u001b[1;33m\u001b[0m\u001b[1;33m\u001b[0m\u001b[0m\n\u001b[0m\u001b[0;32m      2\u001b[0m \u001b[1;31m# r_males.to_csv('filte_males.csv',index=False ,mode='a+')\u001b[0m\u001b[1;33m\u001b[0m\u001b[1;33m\u001b[0m\u001b[1;33m\u001b[0m\u001b[0m\n\u001b[0;32m      3\u001b[0m \u001b[1;33m\u001b[0m\u001b[0m\n\u001b[0;32m      4\u001b[0m \u001b[0mjson_string\u001b[0m \u001b[1;33m=\u001b[0m \u001b[0mjson\u001b[0m\u001b[1;33m.\u001b[0m\u001b[0mdumps\u001b[0m\u001b[1;33m(\u001b[0m\u001b[0mr_males\u001b[0m\u001b[1;33m,\u001b[0m\u001b[0mensure_ascii\u001b[0m\u001b[1;33m=\u001b[0m\u001b[1;32mFalse\u001b[0m\u001b[1;33m)\u001b[0m\u001b[1;33m\u001b[0m\u001b[1;33m\u001b[0m\u001b[0m\n\u001b[0;32m      5\u001b[0m \u001b[0mprint\u001b[0m\u001b[1;33m(\u001b[0m\u001b[0mjson_string\u001b[0m\u001b[1;33m,\u001b[0m \u001b[0mfile\u001b[0m\u001b[1;33m=\u001b[0m\u001b[0mj_file\u001b[0m\u001b[1;33m)\u001b[0m\u001b[1;33m\u001b[0m\u001b[1;33m\u001b[0m\u001b[0m\n",
      "\u001b[1;31mNameError\u001b[0m: name 'search_enumera_reuslt_json' is not defined"
     ]
    }
   ],
   "source": [
    "\n",
    "r_males =search_enumera_reuslt_json(re_males)\n",
    "# r_males.to_csv('filte_males.csv',index=False ,mode='a+')\n",
    "\n",
    "json_string = json.dumps(r_males,ensure_ascii=False)\n",
    "print(json_string, file=j_file)\n",
    "print(json_string)"
   ]
  },
  {
   "cell_type": "code",
   "execution_count": null,
   "metadata": {},
   "outputs": [],
   "source": []
  }
 ],
 "metadata": {
  "kernelspec": {
   "display_name": "Python 3",
   "language": "python",
   "name": "python3"
  },
  "language_info": {
   "codemirror_mode": {
    "name": "ipython",
    "version": 3
   },
   "file_extension": ".py",
   "mimetype": "text/x-python",
   "name": "python",
   "nbconvert_exporter": "python",
   "pygments_lexer": "ipython3",
   "version": "3.7.4"
  }
 },
 "nbformat": 4,
 "nbformat_minor": 2
}
