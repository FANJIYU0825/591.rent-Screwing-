{
 "cells": [
  {
   "cell_type": "code",
   "execution_count": 1,
   "metadata": {},
   "outputs": [],
   "source": [
    "import requests\n",
    "import pandas as pd\n",
    "import numpy as np\n",
    "import time\n",
    "from pymongo import MongoClient"
   ]
  },
  {
   "cell_type": "code",
   "execution_count": 2,
   "metadata": {},
   "outputs": [],
   "source": [
    "conn = MongoClient('localhost', 27017)\n",
    "db = conn['rent_591']\n",
    "collection = db.rent"
   ]
  },
  {
   "cell_type": "code",
   "execution_count": null,
   "metadata": {},
   "outputs": [],
   "source": [
    "def get_data(firstRow,regionid):\n",
    "    url = 'https://m.591.com.tw/mobile-list.html'\n",
    "    #regionid: 台北市:1 新北市：3\n",
    "    url_params = {\n",
    "        'type' : 'rent',\n",
    "        'dropDown' : 1,\n",
    "        'version' : 2017,\n",
    "        'firstRow' : firstRow,\n",
    "        'regionid' : regionid,\n",
    "        'region_id' : regionid\n",
    "        }\n",
    "\n",
    "    data_get = requests.get(url, params = url_params ,headers={'User-Agent': 'Custom'})\n",
    "    \n",
    "    total_rows = data_get.json()['totalRows']\n",
    "    data = data_get.json()['data']\n",
    "    \n",
    "    return total_rows,data"
   ]
  },
  {
   "cell_type": "code",
   "execution_count": null,
   "metadata": {},
   "outputs": [],
   "source": [
    "def get_detail(regionid):\n",
    "    total_rows = get_data(0,regionid)[0]\n",
    "    print('total_rows',total_rows)\n",
    "    start_time = time.time()\n",
    "    for page in range(0,total_rows,8):\n",
    "        print('page',page)\n",
    "        if page == 0:\n",
    "            page = page+1\n",
    "        while True:\n",
    "            try:       \n",
    "                data_df = pd.DataFrame(get_data(page,regionid)[1])\n",
    "                break\n",
    "            except:\n",
    "                time.sleep(10)\n",
    "        \n",
    "        data_houseid = data_df['houseid']\n",
    "\n",
    "        for houseid in data_houseid:\n",
    "            if type(houseid) != float:\n",
    "                item_url = 'https://m.591.com.tw/iphone-houseRecordNew.html'\n",
    "                item_url_params = {\n",
    "                    'id' : houseid  \n",
    "                    }\n",
    "                while True:\n",
    "                    try:       \n",
    "                        item_data_get = requests.get(item_url, params = item_url_params ,headers={'User-Agent': 'Custom'})\n",
    "                        break\n",
    "                    except:\n",
    "                        time.sleep(10)\n",
    "                        \n",
    "                item_data = item_data_get.json()['data']\n",
    "                item_updatetime = item_data_get.json()['update']\n",
    "                item_data['houseid'] = houseid\n",
    "                item_data['update_time'] = item_updatetime\n",
    "\n",
    "                collection.update({'houseid' : houseid},item_data, upsert = True)\n",
    "    end_time = time.time() - start_time\n",
    "    print('end_time:',end_time)"
   ]
  },
  {
   "cell_type": "code",
   "execution_count": null,
   "metadata": {},
   "outputs": [],
   "source": [
    "get_detail(1)\n",
    "get_detail(3)"
   ]
  }
 ],
 "metadata": {
  "kernelspec": {
   "display_name": "Python 3",
   "language": "python",
   "name": "python3"
  },
  "language_info": {
   "codemirror_mode": {
    "name": "ipython",
    "version": 3
   },
   "file_extension": ".py",
   "mimetype": "text/x-python",
   "name": "python",
   "nbconvert_exporter": "python",
   "pygments_lexer": "ipython3",
   "version": "3.7.4"
  }
 },
 "nbformat": 4,
 "nbformat_minor": 2
}
