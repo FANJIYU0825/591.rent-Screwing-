{
 "cells": [
  {
   "cell_type": "code",
   "execution_count": 1,
   "metadata": {},
   "outputs": [],
   "source": [
    "import pandas as pd\n",
    "filename = './data/Train_X.csv'\n",
    "df = pd.read_csv(filename,encoding='cp950')"
   ]
  },
  {
   "cell_type": "markdown",
   "metadata": {},
   "source": [
    "發現變數太少多加入一些變數"
   ]
  },
  {
   "cell_type": "code",
   "execution_count": 38,
   "metadata": {},
   "outputs": [],
   "source": [
    "condition_max = df['股票名稱']=='加權指數'\n",
    "filter_a=df[(condition_max)]\n",
    "filter_a.to_csv('filter_a.csv',encoding ='UTF-8')"
   ]
  },
  {
   "cell_type": "code",
   "execution_count": 9,
   "metadata": {},
   "outputs": [],
   "source": [
    "df_date = df.日期\n",
    "df_name =df.股票名稱\n",
    "df_close = df.收盤價"
   ]
  },
  {
   "cell_type": "markdown",
   "metadata": {},
   "source": [
    "資料篩選(搜尋)"
   ]
  },
  {
   "cell_type": "code",
   "execution_count": null,
   "metadata": {},
   "outputs": [],
   "source": [
    "df_all = pd.concat([df_date,df_name,df_close],axis = 1)\n",
    "df_all"
   ]
  },
  {
   "cell_type": "code",
   "execution_count": 35,
   "metadata": {},
   "outputs": [],
   "source": [
    "condition1 = df_all['股票名稱']=='加權指數'"
   ]
  },
  {
   "cell_type": "code",
   "execution_count": 36,
   "metadata": {},
   "outputs": [
    {
     "data": {
      "text/html": [
       "<div>\n",
       "<style scoped>\n",
       "    .dataframe tbody tr th:only-of-type {\n",
       "        vertical-align: middle;\n",
       "    }\n",
       "\n",
       "    .dataframe tbody tr th {\n",
       "        vertical-align: top;\n",
       "    }\n",
       "\n",
       "    .dataframe thead th {\n",
       "        text-align: right;\n",
       "    }\n",
       "</style>\n",
       "<table border=\"1\" class=\"dataframe\">\n",
       "  <thead>\n",
       "    <tr style=\"text-align: right;\">\n",
       "      <th></th>\n",
       "      <th>日期</th>\n",
       "      <th>股票名稱</th>\n",
       "      <th>收盤價</th>\n",
       "    </tr>\n",
       "  </thead>\n",
       "  <tbody>\n",
       "    <tr>\n",
       "      <td>1571</td>\n",
       "      <td>20140127</td>\n",
       "      <td>加權指數</td>\n",
       "      <td>8462.57</td>\n",
       "    </tr>\n",
       "    <tr>\n",
       "      <td>3259</td>\n",
       "      <td>20140124</td>\n",
       "      <td>加權指數</td>\n",
       "      <td>8598.31</td>\n",
       "    </tr>\n",
       "    <tr>\n",
       "      <td>4945</td>\n",
       "      <td>20140123</td>\n",
       "      <td>加權指數</td>\n",
       "      <td>8595.10</td>\n",
       "    </tr>\n",
       "    <tr>\n",
       "      <td>6631</td>\n",
       "      <td>20140122</td>\n",
       "      <td>加權指數</td>\n",
       "      <td>8625.30</td>\n",
       "    </tr>\n",
       "    <tr>\n",
       "      <td>8317</td>\n",
       "      <td>20140121</td>\n",
       "      <td>加權指數</td>\n",
       "      <td>8599.90</td>\n",
       "    </tr>\n",
       "    <tr>\n",
       "      <td>...</td>\n",
       "      <td>...</td>\n",
       "      <td>...</td>\n",
       "      <td>...</td>\n",
       "    </tr>\n",
       "    <tr>\n",
       "      <td>398060</td>\n",
       "      <td>20141205</td>\n",
       "      <td>加權指數</td>\n",
       "      <td>9206.57</td>\n",
       "    </tr>\n",
       "    <tr>\n",
       "      <td>399817</td>\n",
       "      <td>20141204</td>\n",
       "      <td>加權指數</td>\n",
       "      <td>9225.11</td>\n",
       "    </tr>\n",
       "    <tr>\n",
       "      <td>401572</td>\n",
       "      <td>20141203</td>\n",
       "      <td>加權指數</td>\n",
       "      <td>9175.26</td>\n",
       "    </tr>\n",
       "    <tr>\n",
       "      <td>403327</td>\n",
       "      <td>20141202</td>\n",
       "      <td>加權指數</td>\n",
       "      <td>9034.79</td>\n",
       "    </tr>\n",
       "    <tr>\n",
       "      <td>405083</td>\n",
       "      <td>20141201</td>\n",
       "      <td>加權指數</td>\n",
       "      <td>9117.71</td>\n",
       "    </tr>\n",
       "  </tbody>\n",
       "</table>\n",
       "<p>237 rows × 3 columns</p>\n",
       "</div>"
      ],
      "text/plain": [
       "              日期  股票名稱      收盤價\n",
       "1571    20140127  加權指數  8462.57\n",
       "3259    20140124  加權指數  8598.31\n",
       "4945    20140123  加權指數  8595.10\n",
       "6631    20140122  加權指數  8625.30\n",
       "8317    20140121  加權指數  8599.90\n",
       "...          ...   ...      ...\n",
       "398060  20141205  加權指數  9206.57\n",
       "399817  20141204  加權指數  9225.11\n",
       "401572  20141203  加權指數  9175.26\n",
       "403327  20141202  加權指數  9034.79\n",
       "405083  20141201  加權指數  9117.71\n",
       "\n",
       "[237 rows x 3 columns]"
      ]
     },
     "execution_count": 36,
     "metadata": {},
     "output_type": "execute_result"
    }
   ],
   "source": [
    "df_all[(condition1)]"
   ]
  },
  {
   "cell_type": "code",
   "execution_count": null,
   "metadata": {},
   "outputs": [],
   "source": []
  }
 ],
 "metadata": {
  "kernelspec": {
   "display_name": "Python 3",
   "language": "python",
   "name": "python3"
  },
  "language_info": {
   "codemirror_mode": {
    "name": "ipython",
    "version": 3
   },
   "file_extension": ".py",
   "mimetype": "text/x-python",
   "name": "python",
   "nbconvert_exporter": "python",
   "pygments_lexer": "ipython3",
   "version": "3.7.4"
  }
 },
 "nbformat": 4,
 "nbformat_minor": 2
}
