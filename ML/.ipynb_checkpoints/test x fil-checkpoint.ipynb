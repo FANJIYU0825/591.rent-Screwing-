{
 "cells": [
  {
   "cell_type": "code",
   "execution_count": 2,
   "metadata": {},
   "outputs": [],
   "source": [
    "import pandas as pd"
   ]
  },
  {
   "cell_type": "markdown",
   "metadata": {},
   "source": [
    "test x"
   ]
  },
  {
   "cell_type": "code",
   "execution_count": 14,
   "metadata": {},
   "outputs": [],
   "source": [
    "filename = './data/Test_X.csv'\n",
    "dfx = pd.read_csv(filename,encoding='cp950')\n",
    "condition_max = df['股票名稱']=='加權指數'\n",
    "filter_b=df.收盤價\t[(condition_max)]"
   ]
  },
  {
   "cell_type": "code",
   "execution_count": 17,
   "metadata": {},
   "outputs": [
    {
     "data": {
      "text/html": [
       "<div>\n",
       "<style scoped>\n",
       "    .dataframe tbody tr th:only-of-type {\n",
       "        vertical-align: middle;\n",
       "    }\n",
       "\n",
       "    .dataframe tbody tr th {\n",
       "        vertical-align: top;\n",
       "    }\n",
       "\n",
       "    .dataframe thead th {\n",
       "        text-align: right;\n",
       "    }\n",
       "</style>\n",
       "<table border=\"1\" class=\"dataframe\">\n",
       "  <thead>\n",
       "    <tr style=\"text-align: right;\">\n",
       "      <th></th>\n",
       "      <th>收盤價</th>\n",
       "      <th>收盤價</th>\n",
       "    </tr>\n",
       "  </thead>\n",
       "  <tbody>\n",
       "    <tr>\n",
       "      <td>1656</td>\n",
       "      <td>9268.43</td>\n",
       "      <td>9268.43</td>\n",
       "    </tr>\n",
       "    <tr>\n",
       "      <td>3438</td>\n",
       "      <td>9286.28</td>\n",
       "      <td>9286.28</td>\n",
       "    </tr>\n",
       "    <tr>\n",
       "      <td>5219</td>\n",
       "      <td>9218.50</td>\n",
       "      <td>9218.50</td>\n",
       "    </tr>\n",
       "    <tr>\n",
       "      <td>6999</td>\n",
       "      <td>9214.07</td>\n",
       "      <td>9214.07</td>\n",
       "    </tr>\n",
       "    <tr>\n",
       "      <td>8777</td>\n",
       "      <td>9158.70</td>\n",
       "      <td>9158.70</td>\n",
       "    </tr>\n",
       "    <tr>\n",
       "      <td>10557</td>\n",
       "      <td>9186.18</td>\n",
       "      <td>9186.18</td>\n",
       "    </tr>\n",
       "    <tr>\n",
       "      <td>12337</td>\n",
       "      <td>9097.71</td>\n",
       "      <td>9097.71</td>\n",
       "    </tr>\n",
       "    <tr>\n",
       "      <td>14115</td>\n",
       "      <td>9095.00</td>\n",
       "      <td>9095.00</td>\n",
       "    </tr>\n",
       "    <tr>\n",
       "      <td>15894</td>\n",
       "      <td>8999.52</td>\n",
       "      <td>8999.52</td>\n",
       "    </tr>\n",
       "    <tr>\n",
       "      <td>17671</td>\n",
       "      <td>8878.63</td>\n",
       "      <td>8878.63</td>\n",
       "    </tr>\n",
       "  </tbody>\n",
       "</table>\n",
       "</div>"
      ],
      "text/plain": [
       "           收盤價      收盤價\n",
       "1656   9268.43  9268.43\n",
       "3438   9286.28  9286.28\n",
       "5219   9218.50  9218.50\n",
       "6999   9214.07  9214.07\n",
       "8777   9158.70  9158.70\n",
       "10557  9186.18  9186.18\n",
       "12337  9097.71  9097.71\n",
       "14115  9095.00  9095.00\n",
       "15894  8999.52  8999.52\n",
       "17671  8878.63  8878.63"
      ]
     },
     "execution_count": 17,
     "metadata": {},
     "output_type": "execute_result"
    }
   ],
   "source": [
    "filter_b"
   ]
  },
  {
   "cell_type": "code",
   "execution_count": null,
   "metadata": {},
   "outputs": [],
   "source": []
  }
 ],
 "metadata": {
  "kernelspec": {
   "display_name": "Python 3",
   "language": "python",
   "name": "python3"
  },
  "language_info": {
   "codemirror_mode": {
    "name": "ipython",
    "version": 3
   },
   "file_extension": ".py",
   "mimetype": "text/x-python",
   "name": "python",
   "nbconvert_exporter": "python",
   "pygments_lexer": "ipython3",
   "version": "3.7.4"
  }
 },
 "nbformat": 4,
 "nbformat_minor": 2
}
