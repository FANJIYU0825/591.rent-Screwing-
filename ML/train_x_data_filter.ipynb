{
 "cells": [
  {
   "cell_type": "code",
   "execution_count": null,
   "metadata": {},
   "outputs": [],
   "source": [
    "import pandas as pd\n",
    "filename = './data/Train_X.csv'\n",
    "df = pd.read_csv(filename,encoding='cp950')"
   ]
  },
  {
   "cell_type": "markdown",
   "metadata": {},
   "source": [
    "發現變數太少多加入一些變數"
   ]
  },
  {
   "cell_type": "code",
   "execution_count": 38,
   "metadata": {},
   "outputs": [],
   "source": [
    "condition_max = df['股票名稱']=='加權指數'\n",
    "filter_a=df[(condition_max)]\n",
    "filter_a.to_csv('filter_a.csv',encoding ='UTF-8')"
   ]
  },
  {
   "cell_type": "code",
   "execution_count": null,
   "metadata": {},
   "outputs": [],
   "source": [
    "df_date = df.日期\n",
    "df_name =df.股票名稱\n",
    "df_close = df.收盤價"
   ]
  },
  {
   "cell_type": "markdown",
   "metadata": {},
   "source": [
    "資料篩選(搜尋)"
   ]
  },
  {
   "cell_type": "code",
   "execution_count": null,
   "metadata": {},
   "outputs": [],
   "source": [
    "df_all = pd.concat([df_date,df_name,df_close],axis = 1)\n",
    "df = df_all.mean()"
   ]
  },
  {
   "cell_type": "code",
   "execution_count": 35,
   "metadata": {},
   "outputs": [],
   "source": [
    "condition1 = df_all['股票名稱']=='加權指數'"
   ]
  },
  {
   "cell_type": "code",
   "execution_count": null,
   "metadata": {},
   "outputs": [],
   "source": [
    "df_con =df_all[(condition1)]\n",
    "df_con"
   ]
  },
  {
   "cell_type": "code",
   "execution_count": null,
   "metadata": {},
   "outputs": [],
   "source": []
  }
 ],
 "metadata": {
  "kernelspec": {
   "display_name": "Python 3",
   "language": "python",
   "name": "python3"
  },
  "language_info": {
   "codemirror_mode": {
    "name": "ipython",
    "version": 3
   },
   "file_extension": ".py",
   "mimetype": "text/x-python",
   "name": "python",
   "nbconvert_exporter": "python",
   "pygments_lexer": "ipython3",
   "version": "3.7.4"
  }
 },
 "nbformat": 4,
 "nbformat_minor": 2
}
